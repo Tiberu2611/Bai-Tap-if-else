{
  "nbformat": 4,
  "nbformat_minor": 0,
  "metadata": {
    "colab": {
      "name": "Numpy1.ipynb",
      "provenance": [],
      "authorship_tag": "ABX9TyNEEaHzIdIyj0Q7MESYA8zQ",
      "include_colab_link": true
    },
    "kernelspec": {
      "name": "python3",
      "display_name": "Python 3"
    },
    "language_info": {
      "name": "python"
    }
  },
  "cells": [
    {
      "cell_type": "markdown",
      "metadata": {
        "id": "view-in-github",
        "colab_type": "text"
      },
      "source": [
        "<a href=\"https://colab.research.google.com/github/Tiberu2611/Bai-Tap-if-else/blob/master/Numpy1.ipynb\" target=\"_parent\"><img src=\"https://colab.research.google.com/assets/colab-badge.svg\" alt=\"Open In Colab\"/></a>"
      ]
    },
    {
      "cell_type": "markdown",
      "source": [
        "Bài 1:Xét không gian R3, một điểm A trong không gian này có tọa độ là (5, 7, 14). Hãy khởi tạo giá trị của điểm A nêu trên bằng Numpy."
      ],
      "metadata": {
        "id": "YhWrxm23E8cO"
      }
    },
    {
      "cell_type": "markdown",
      "source": [
        ""
      ],
      "metadata": {
        "id": "jILcvfaGFLLt"
      }
    },
    {
      "cell_type": "code",
      "source": [
        "import numpy as np\n",
        "A = np.array([5, 7, 14])\n",
        "print(A)"
      ],
      "metadata": {
        "colab": {
          "base_uri": "https://localhost:8080/"
        },
        "id": "zwtZXBv4FLdf",
        "outputId": "be3308fe-54e7-483a-e3e4-3849e927b286"
      },
      "execution_count": null,
      "outputs": [
        {
          "output_type": "stream",
          "name": "stdout",
          "text": [
            "[ 5  7 14]\n"
          ]
        }
      ]
    },
    {
      "cell_type": "markdown",
      "source": [
        "Bài 2: Mở rộng không gian lên R15, điểm A trong không gian này có tọa độ là (1, 2, 3, 4, 5, 6, 7, 8, 9, 10, 11, 12, 13, 14, 15). Hãy khởi tạo điểm A trong không gian 15 chiều này bằng Numpy."
      ],
      "metadata": {
        "id": "Sj1YqYJKFZIe"
      }
    },
    {
      "cell_type": "code",
      "source": [
        "import numpy as np\n",
        "A = np.arange(1,16,1)\n",
        "print(A)"
      ],
      "metadata": {
        "id": "J8ATEhTsFfI-",
        "colab": {
          "base_uri": "https://localhost:8080/"
        },
        "outputId": "8ccde397-35cf-4a79-85be-c752c3f0966c"
      },
      "execution_count": 2,
      "outputs": [
        {
          "output_type": "stream",
          "name": "stdout",
          "text": [
            "[ 1  2  3  4  5  6  7  8  9 10 11 12 13 14 15]\n"
          ]
        }
      ]
    },
    {
      "cell_type": "markdown",
      "source": [
        "Bài 3: Hãy viết chương trình sinh ngẫu nhiên một vector trong không gian Rn với n là số nguyên dương được nhập vào từ bàn phím. Yêu cầu: sử dụng Numpy."
      ],
      "metadata": {
        "id": "8w2ud4EE9Rga"
      }
    },
    {
      "cell_type": "code",
      "source": [
        "import numpy as np\n",
        "n = int(input(\"Nhập n: \"))\n",
        "matr = np.random.randint(1,10,size = (n))\n",
        "print(matr)"
      ],
      "metadata": {
        "colab": {
          "base_uri": "https://localhost:8080/"
        },
        "id": "0KZ4_bNE9bVT",
        "outputId": "70790130-c441-478c-b8a9-0c39cdfd5bf7"
      },
      "execution_count": 7,
      "outputs": [
        {
          "output_type": "stream",
          "name": "stdout",
          "text": [
            "Nhập n: 5\n",
            "[2 1 8 1 4]\n"
          ]
        }
      ]
    },
    {
      "cell_type": "markdown",
      "source": [
        "Bài 4: Hãy viết chương trình tính chiều dài của vector OA , biết công thức tổng quát để tính chiều dài vector OA trong không gian Rn là:\n"
      ],
      "metadata": {
        "id": "WRKPSR_OBOL6"
      }
    },
    {
      "cell_type": "code",
      "source": [
        "import numpy as np\n",
        "import math\n",
        "OA = np.random.randint(1,10,size = 3)\n",
        "print(OA)\n",
        "tong = 0\n",
        "for i in OA:\n",
        "  tong = tong+i**2\n",
        "print(\"chiều dài vecto OA: \", math.sqrt(tong))"
      ],
      "metadata": {
        "colab": {
          "base_uri": "https://localhost:8080/"
        },
        "id": "LQ6gskKiEk8l",
        "outputId": "107bdcae-c94a-4271-b78f-36c8f12a89ae"
      },
      "execution_count": 22,
      "outputs": [
        {
          "output_type": "stream",
          "name": "stdout",
          "text": [
            "[7 7 9]\n",
            "chiều dài vecto OA:  13.379088160259652\n"
          ]
        }
      ]
    },
    {
      "cell_type": "markdown",
      "source": [
        "Bài 5 Trong không gian Rn , hãy sinh ngẫu nhiên 2 điểm A và B. Xác định vector AB⃗⃗⃗⃗⃗ và tính chiều dài của vector này ‖AB⃗⃗⃗⃗⃗ ‖. Lưu ý: sử dụng Numpy."
      ],
      "metadata": {
        "id": "zfF0uvreFvTa"
      }
    },
    {
      "cell_type": "code",
      "source": [
        "import numpy as np\n",
        "A = np.random.randint(1,10,size = 3)\n",
        "print(\"Vecto A: \", A)\n",
        "B = np.random.randint(1,10,size = 3)\n",
        "print(\"Vecto B: \", B)\n",
        "AB = B - A\n",
        "print(\"Vecto AB: \", AB)"
      ],
      "metadata": {
        "colab": {
          "base_uri": "https://localhost:8080/"
        },
        "id": "bNj0FU4wF2IQ",
        "outputId": "f7150a2d-7bfd-449c-d8b3-43984fe0be02"
      },
      "execution_count": 21,
      "outputs": [
        {
          "output_type": "stream",
          "name": "stdout",
          "text": [
            "Vecto A:  [3 4 2]\n",
            "Vecto B:  [9 7 4]\n",
            "Vecto AB:  [6 3 2]\n"
          ]
        }
      ]
    },
    {
      "cell_type": "markdown",
      "source": [
        "Bài 6: Tích vô hướng của 2 vector a & b⃗ (dot product hoặc inner product hoặc scalar product) được tính theo công thức tổng quát là:"
      ],
      "metadata": {
        "id": "-Q-kANkOIRFy"
      }
    },
    {
      "cell_type": "code",
      "source": [
        "import numpy as np\n",
        "a = np.random.randint(1,10, size = (3,3))\n",
        "b = np.random.randint(1,10, size = (3,3))\n",
        "print(a)\n",
        "print(b)\n",
        "print(\"tích vô hướng của 2 vecto a&b: \\n\", np.inner(a, b))"
      ],
      "metadata": {
        "colab": {
          "base_uri": "https://localhost:8080/"
        },
        "id": "0NcRvLGHIZPW",
        "outputId": "4034ed70-71d7-4d05-8fe5-5ffc0aedfd9e"
      },
      "execution_count": 33,
      "outputs": [
        {
          "output_type": "stream",
          "name": "stdout",
          "text": [
            "[[8 8 1]\n",
            " [6 7 2]\n",
            " [5 7 5]]\n",
            "[[6 5 2]\n",
            " [4 1 1]\n",
            " [2 9 7]]\n",
            "tích vô hướng của 2 vecto a&b: \n",
            " [[ 90  41  95]\n",
            " [ 75  33  89]\n",
            " [ 75  32 108]]\n"
          ]
        }
      ]
    },
    {
      "cell_type": "markdown",
      "source": [
        "Bài 7"
      ],
      "metadata": {
        "id": "8Hex8PlAKBz2"
      }
    },
    {
      "cell_type": "code",
      "source": [
        "import numpy as np\n",
        "a = np.random.randint(1,10, size = (3,3))\n",
        "b = np.random.randint(1,10, size = (3,3))\n",
        "print(a)\n",
        "print(b)\n",
        "print(\"tích hữu hướng của 2 vecto a&b: \\n\", np.cross(a, b))"
      ],
      "metadata": {
        "colab": {
          "base_uri": "https://localhost:8080/"
        },
        "id": "GxVp9g54KFH4",
        "outputId": "c304eb9a-f14c-4363-d2c9-bd740bcea8d4"
      },
      "execution_count": 34,
      "outputs": [
        {
          "output_type": "stream",
          "name": "stdout",
          "text": [
            "[[2 7 9]\n",
            " [7 8 8]\n",
            " [9 8 2]]\n",
            "[[6 7 6]\n",
            " [6 1 2]\n",
            " [4 5 6]]\n",
            "tích hữu hướng của 2 vecto a&b: \n",
            " [[-21  42 -28]\n",
            " [  8  34 -41]\n",
            " [ 38 -46  13]]\n"
          ]
        }
      ]
    },
    {
      "cell_type": "markdown",
      "source": [
        "Bài 8"
      ],
      "metadata": {
        "id": "pXg_GG7aKXs-"
      }
    },
    {
      "cell_type": "code",
      "source": [
        "import numpy as np\n",
        "a = np.random.randint(1,10, size = (3,3))\n",
        "print(a)\n",
        "a_ = np.transpose(a)\n",
        "print(\"ma trận chuyển bị của a là : \\n\", a_)"
      ],
      "metadata": {
        "colab": {
          "base_uri": "https://localhost:8080/"
        },
        "id": "FWocGv3GKYjG",
        "outputId": "ce05c15f-1790-4e70-b0eb-4102e3fdf2e6"
      },
      "execution_count": 36,
      "outputs": [
        {
          "output_type": "stream",
          "name": "stdout",
          "text": [
            "[[4 3 7]\n",
            " [9 1 8]\n",
            " [8 6 3]]\n",
            "ma trận chuyển bị của a là : \n",
            " [[4 9 8]\n",
            " [3 1 6]\n",
            " [7 8 3]]\n"
          ]
        }
      ]
    },
    {
      "cell_type": "markdown",
      "source": [
        "Bài 9"
      ],
      "metadata": {
        "id": "mifWYEsfLmbO"
      }
    },
    {
      "cell_type": "code",
      "source": [
        "import numpy as np\n",
        "a = [1, 2, 3, 4, 5]\n",
        "b = [[1], [2], [3], [4], [5]]\n",
        "print(a)\n",
        "print(b)\n",
        "a_ = np.array(a)\n",
        "print(a_)\n",
        "b_ = np.array(b)\n",
        "print(b_)\n",
        "a_t = np.transpose(a_)\n",
        "print(a_t)\n",
        "b_t = np.transpose(b_)\n",
        "print(b_t)\n"
      ],
      "metadata": {
        "colab": {
          "base_uri": "https://localhost:8080/"
        },
        "id": "aLCc4XvkLnxF",
        "outputId": "b5bc0086-fcf1-4eae-a6e6-acc6dd634eca"
      },
      "execution_count": 39,
      "outputs": [
        {
          "output_type": "stream",
          "name": "stdout",
          "text": [
            "[1, 2, 3, 4, 5]\n",
            "[[1], [2], [3], [4], [5]]\n",
            "[1 2 3 4 5]\n",
            "[[1]\n",
            " [2]\n",
            " [3]\n",
            " [4]\n",
            " [5]]\n",
            "[1 2 3 4 5]\n",
            "[[1 2 3 4 5]]\n"
          ]
        }
      ]
    },
    {
      "cell_type": "markdown",
      "source": [
        "Bài 10"
      ],
      "metadata": {
        "id": "Hn3MsDQUM7Oa"
      }
    },
    {
      "cell_type": "code",
      "source": [
        "import numpy as np\n",
        "n = int(input(\"Nhập chiều không gian n: \"))\n",
        "a = np.random.randint(1,10, size = n)\n",
        "print(a)\n",
        "b = np.random.randint(1,10, size = n)\n",
        "print(b)\n",
        "m = int(input(\"Nhập m: \"))\n",
        "print(\"phép nhân ma là: \", m*a)\n",
        "print(\"phép cộng 2 vecto a&b: \", a + b)"
      ],
      "metadata": {
        "colab": {
          "base_uri": "https://localhost:8080/"
        },
        "id": "41bMoyQWM8ol",
        "outputId": "66a499b7-a5fd-4157-ca3c-6489369627aa"
      },
      "execution_count": 40,
      "outputs": [
        {
          "output_type": "stream",
          "name": "stdout",
          "text": [
            "Nhập chiều không gian n: 4\n",
            "[3 1 7 9]\n",
            "[4 1 6 4]\n",
            "Nhập m: 2\n",
            "phép nhân ma là:  [ 6  2 14 18]\n",
            "phép cộng 2 vecto a&b:  [ 7  2 13 13]\n"
          ]
        }
      ]
    }
  ]
}