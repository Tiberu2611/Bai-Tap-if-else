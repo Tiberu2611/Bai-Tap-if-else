{
  "nbformat": 4,
  "nbformat_minor": 0,
  "metadata": {
    "colab": {
      "name": "Untitled3.ipynb",
      "provenance": [],
      "authorship_tag": "ABX9TyPxugCT3ZJ2fkwBEHuJeWu/",
      "include_colab_link": true
    },
    "kernelspec": {
      "name": "python3",
      "display_name": "Python 3"
    },
    "language_info": {
      "name": "python"
    }
  },
  "cells": [
    {
      "cell_type": "markdown",
      "metadata": {
        "id": "view-in-github",
        "colab_type": "text"
      },
      "source": [
        "<a href=\"https://colab.research.google.com/github/Tiberu2611/Bai-Tap-if-else/blob/master/BaiTap25-02.ipynb\" target=\"_parent\"><img src=\"https://colab.research.google.com/assets/colab-badge.svg\" alt=\"Open In Colab\"/></a>"
      ]
    },
    {
      "cell_type": "code",
      "source": [
        "def TowerOfHanoi(n , source, destination, auxiliary):\n",
        "   if n==1:\n",
        "      print(\"Chuyển đĩa 1 từ cọc\",source,\"sang cọc\",destination)\n",
        "      return\n",
        "   TowerOfHanoi(n-1, source, auxiliary, destination)\n",
        "   print(\"Chuyển đĩa\",n,\"từ cọc\",source,\"sang cọc\",destination)\n",
        "   TowerOfHanoi(n-1, auxiliary, destination, source)\n",
        "# Ví dụ với n = 3\n",
        "n = 3\n",
        "TowerOfHanoi(n,'A','C','B')\n"
      ],
      "metadata": {
        "colab": {
          "base_uri": "https://localhost:8080/"
        },
        "id": "bxyaaWDgaQa2",
        "outputId": "42ba85f3-125e-45e2-8aca-6479219a26f2"
      },
      "execution_count": null,
      "outputs": [
        {
          "output_type": "stream",
          "name": "stdout",
          "text": [
            "Chuyển đĩa 1 từ cọc A sang cọc C\n",
            "Chuyển đĩa 2 từ cọc A sang cọc B\n",
            "Chuyển đĩa 1 từ cọc C sang cọc B\n",
            "Chuyển đĩa 3 từ cọc A sang cọc C\n",
            "Chuyển đĩa 1 từ cọc B sang cọc A\n",
            "Chuyển đĩa 2 từ cọc B sang cọc C\n",
            "Chuyển đĩa 1 từ cọc A sang cọc C\n"
          ]
        }
      ]
    },
    {
      "cell_type": "code",
      "execution_count": null,
      "metadata": {
        "colab": {
          "base_uri": "https://localhost:8080/"
        },
        "id": "8Hco2G3dX3zl",
        "outputId": "fa791218-ff0b-4b06-908f-0aeb3ccdecba"
      },
      "outputs": [
        {
          "output_type": "stream",
          "name": "stdout",
          "text": [
            "Nhap a:20\n",
            "Nhap b:15\n",
            "Ước số chung lớn nhất của 20 và 15 là: 5\n"
          ]
        }
      ],
      "source": [
        "def uscln(a, b):\n",
        "    temp1 = a;\n",
        "    temp2 = b;\n",
        "    while (temp1 != temp2):\n",
        "        if (temp1 > temp2):\n",
        "            temp1 -= temp2;\n",
        "        else:\n",
        "            temp2 -= temp1;\n",
        "    uscln = temp1;\n",
        "    return uscln;1\n",
        "a = int(input(\"Nhap a:\"))\n",
        "b = int(input(\"Nhap b:\"))\n",
        "print(\"Ước số chung lớn nhất của\", a, \"và\", b, \"là:\", uscln(a, b));"
      ]
    },
    {
      "cell_type": "code",
      "source": [
        ""
      ],
      "metadata": {
        "id": "KYfz_I8XaOxO"
      },
      "execution_count": null,
      "outputs": []
    }
  ]
}